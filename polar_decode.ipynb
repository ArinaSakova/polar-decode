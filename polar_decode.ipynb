{
 "cells": [
  {
   "cell_type": "markdown",
   "metadata": {},
   "source": [
    "#### Выполнили Густомясова Софья и Сакова Арина"
   ]
  },
  {
   "cell_type": "code",
   "execution_count": 2,
   "metadata": {},
   "outputs": [],
   "source": [
    "import numpy as np\n",
    "import pandas as pd\n",
    "import matplotlib.pyplot as plt\n",
    "import os"
   ]
  },
  {
   "cell_type": "markdown",
   "metadata": {},
   "source": [
    "####  Вспомогательные функции для рекурсивного обхода дерева"
   ]
  },
  {
   "cell_type": "code",
   "execution_count": 3,
   "metadata": {},
   "outputs": [],
   "source": [
    "def f(l1 , l2):\n",
    "    return np.sign(l1)*np.sign(l2)*np.minimum(np.abs(l1),np.abs(l2))"
   ]
  },
  {
   "cell_type": "code",
   "execution_count": 4,
   "metadata": {},
   "outputs": [],
   "source": [
    "def satx(x, th):\n",
    "    return np.minimum(np.maximum(x,-th), th)"
   ]
  },
  {
   "cell_type": "code",
   "execution_count": 5,
   "metadata": {},
   "outputs": [],
   "source": [
    "def g(l1, l2, bit):\n",
    "    return satx(l2+(1-2*bit)*l1, maxqr)"
   ]
  },
  {
   "cell_type": "markdown",
   "metadata": {},
   "source": [
    "####  Successive cancellation decoder"
   ]
  },
  {
   "cell_type": "code",
   "execution_count": 6,
   "metadata": {},
   "outputs": [],
   "source": [
    "def polar_decode(y, frozen_bits_indicator):\n",
    "    \n",
    "    n = y.shape[0]\n",
    "    if n==2:\n",
    "        L_u_1 = f(y[0],y[1])\n",
    "        u = np.zeros(2)\n",
    "        if frozen_bits_indicator[0]==1:\n",
    "            u[0] = 0\n",
    "        elif L_u_1>= 0:\n",
    "            u[0] = 0\n",
    "        else:\n",
    "            u[0] = 1\n",
    "\n",
    "        L_u_2 = g(y[0], y[1], u[0])\n",
    "        if frozen_bits_indicator[1] == 1:\n",
    "            u[1] = 0\n",
    "        elif L_u_2 >= 0:\n",
    "            u[1] = 0\n",
    "        else:\n",
    "            u[1] = 1\n",
    "            \n",
    "        v = np.zeros(2)\n",
    "        v[0] = np.mod(u[0]+u[1], 2)\n",
    "        v[1] = u[1]\n",
    "        \n",
    "        return u, v\n",
    "    \n",
    "    else:\n",
    "        y_left = np.zeros(n//2)\n",
    "        \n",
    "        for i in range(0, n//2):\n",
    "            y_left[i] = f(y[2*i],y[2*i+1])\n",
    "            \n",
    "        frozen_bits_indicator_1 = frozen_bits_indicator[:n//2]\n",
    "        \n",
    "        u1, v1 =polar_decode(y_left, frozen_bits_indicator_1)\n",
    "        \n",
    "        y_right = np.zeros(n//2)\n",
    "        \n",
    "        for i in range(0, n//2):\n",
    "            y_right[i] = g(y[2*i], y[2*i+1], v1[i])\n",
    "            \n",
    "        frozen_bits_indicator_2 = frozen_bits_indicator[n//2:]\n",
    "        \n",
    "        u2, v2 = polar_decode(y_right, frozen_bits_indicator_2)\n",
    "        \n",
    "        u = np.concatenate([u1, u2])\n",
    "        \n",
    "        v = np.zeros(n)\n",
    "        \n",
    "        for i in range(0, n//2):\n",
    "            v[2*i] = np.mod(v1[i]+v2[i], 2)\n",
    "            v[2*i+1] = v2[i]\n",
    "            \n",
    "        return u, v"
   ]
  },
  {
   "cell_type": "markdown",
   "metadata": {},
   "source": [
    "####  Successive cancellation list decoder"
   ]
  },
  {
   "cell_type": "code",
   "execution_count": 7,
   "metadata": {},
   "outputs": [],
   "source": [
    "def polar_decode_list(y,ff,L,listprob=np.array([0]),u=np.array([[]])):\n",
    "    N = y.shape[1] #??\n",
    "    if N==1:\n",
    "        Lp=np.concatenate([(y<0)*y,(y>=0)*(-y)], axis =-1)  #simple approximation\n",
    "        L0 = y.shape[0]#??\n",
    "        if ff[0]==1/2:\n",
    "            # Make list of all possible decisions (double the list size)\n",
    "            listprob = np.concatenate([listprob+Lp[:,1], listprob+Lp[:,0]])\n",
    "            j = np.argsort(listprob)[::-1]\n",
    "            listprob = listprob[j]\n",
    "            if j.shape[0] > L:\n",
    "                listprob = listprob[:L]\n",
    "                j = j[:L]\n",
    "            # the first half of the list was due to x=1\n",
    "            x = np.array((j < L0), dtype=int).reshape(-1,1)\n",
    "            idx = np.mod(j,L0)\n",
    "            u = u[idx,:]\n",
    "            u = np.concatenate([u,x], axis=1)\n",
    "            return u, x, idx, listprob\n",
    "            # determine which path each decision belongs to\n",
    "        else:\n",
    "            x = np.zeros(L0).reshape(-1,1)\n",
    "            u = np.concatenate([u,x], axis=1)\n",
    "            idx = np.arange(L0)\n",
    "            listprob = listprob + Lp[:,0] # Or better avoid modifing it?\n",
    "            return u, x, idx, listprob\n",
    "    else:\n",
    "        u1est = f(y[:, ::2],y[:, 1::2])\n",
    "        uhat1, u1hardprev, idx1, prob1 = polar_decode_list(u1est, ff[:N//2], L, listprob, u)\n",
    "        u2est = g(y[idx1, ::2], y[idx1, 1::2], u1hardprev)\n",
    "        uhat2, u2hardprev, idx2, prob2 = polar_decode_list(u2est,ff[N//2:],L,prob1,uhat1)\n",
    "        u = uhat2\n",
    "        x = np.zeros([len(idx2), u2hardprev.shape[1]*2])\n",
    "        x[:, ::2]= np.mod(u1hardprev[idx2,:]+u2hardprev, 2)\n",
    "        x[:, 1::2] = u2hardprev\n",
    "        listprob = prob2;\n",
    "        idx = idx1[idx2] #?? \n",
    "        return u, x, idx, listprob"
   ]
  },
  {
   "cell_type": "markdown",
   "metadata": {},
   "source": [
    "####  Модифицированный Successive cancellation list decoder"
   ]
  },
  {
   "cell_type": "code",
   "execution_count": 8,
   "metadata": {},
   "outputs": [],
   "source": [
    "def polar_decode_list_fast(y,ff,L,listprob=np.array([0]),u=np.array([[]])):\n",
    "    N = y.shape[1] #??\n",
    "    if N==1:\n",
    "        Lp=np.concatenate([(y<0)*y,(y>=0)*(-y)], axis =-1)  #simple approximation\n",
    "        L0 = y.shape[0]#??\n",
    "        if ff[0]==1/2:\n",
    "            # Make list of all possible decisions (double the list size)\n",
    "            listprob = np.concatenate([listprob+Lp[:,1], listprob+Lp[:,0]])\n",
    "            j = np.argsort(listprob)[::-1]\n",
    "            listprob = listprob[j]\n",
    "            if j.shape[0] > L:\n",
    "                listprob = listprob[:L]\n",
    "                j = j[:L]\n",
    "            # the first half of the list was due to x=1\n",
    "            x = np.array((j < L0), dtype=int).reshape(-1,1)\n",
    "            idx = np.mod(j,L0)\n",
    "            u = u[idx,:]\n",
    "            u = np.concatenate([u,x], axis=1)\n",
    "            return u, x, idx, listprob\n",
    "            # determine which path each decision belongs to\n",
    "        else:\n",
    "            x = np.zeros(L0).reshape(-1,1)\n",
    "            u = np.concatenate([u,x], axis=1)\n",
    "            idx = np.arange(L0)\n",
    "            listprob = listprob + Lp[:,0] # Or better avoid modifing it?\n",
    "            return u, x, idx, listprob\n",
    "    elif (ff==1/2).all():\n",
    "        u,x,idx,listprob=decRate1(y,L,listprob,u) #dec Rate1\n",
    "        return u,x,idx,listprob\n",
    "    elif (ff==0).all():\n",
    "        u,x,idx,listprob=decRate0(y,listprob,u) #dec Rate0\n",
    "        return u,x,idx,listprob\n",
    "    elif ff[-1]==1/2 and (ff[:-1]==0).all():\n",
    "        u,x,idx,listprob=decRepCode(y,L,listprob,u)#dec Repetition code\n",
    "        return u,x,idx,listprob\n",
    "    elif ff[0]==0 and (ff[1:]==1/2).all():\n",
    "        u,x,idx,listprob=decSPCCode(y,L,listprob,u)#dec SPC code \n",
    "        return u,x,idx,listprob\n",
    "    else:\n",
    "        u1est = f(y[:, ::2],y[:, 1::2])\n",
    "        uhat1, u1hardprev, idx1, prob1 = polar_decode_list(u1est, ff[:N//2], L, listprob, u)\n",
    "        u2est = g(y[idx1, ::2], y[idx1, 1::2], u1hardprev)\n",
    "        uhat2, u2hardprev, idx2, prob2 = polar_decode_list(u2est,ff[N//2:],L,prob1,uhat1)\n",
    "        u = uhat2\n",
    "        x = np.zeros([len(idx2), u2hardprev.shape[1]*2])\n",
    "        x[:, ::2]= np.mod(u1hardprev[idx2,:]+u2hardprev, 2)\n",
    "        x[:, 1::2] = u2hardprev\n",
    "        listprob = prob2;\n",
    "        idx = idx1[idx2] #?? \n",
    "        return u, x, idx, listprob"
   ]
  },
  {
   "cell_type": "markdown",
   "metadata": {},
   "source": [
    "####  Вспомогательные функции для модифицированного Successive cancellation list decoder"
   ]
  },
  {
   "cell_type": "code",
   "execution_count": 9,
   "metadata": {},
   "outputs": [],
   "source": [
    "def decRate1(y,L,listprob,u):\n",
    "    u_hat=np.kron(np.array((y<0), dtype=int),np.ones((4,1)))\n",
    "    #logp=-log1p(exp(-abs(y)));\n",
    "    #logp=np.zeros(y.shape[0])\n",
    "    listprob=np.kron(listprob.reshape(-1,1),np.ones((4,1)))\n",
    "    #print(listprob)\n",
    "    for i in range(y.shape[0]):\n",
    "        min_id=np.argsort(np.abs(y[i]))\n",
    "        min_val=np.abs(y[i][min_id])\n",
    "        s=4*i\n",
    "        u_hat[[1+s,3+s],min_id[0]]=1-u_hat[[1+s,3+s],min_id[0]]\n",
    "        u_hat[[2+s,3+s],min_id[1]]=1-u_hat[[2+s,3+s],min_id[1]]\n",
    "        listprob[[1+s,3+s]]=listprob[[1+s,3+s]]-min_val[0]\n",
    "        listprob[[2+s,3+s]]=listprob[[2+s,3+s]]-min_val[1]\n",
    "    listprob = listprob.reshape(1,-1)[0]\n",
    "    #print(listprob)\n",
    "    j = np.argsort(listprob)[::-1]\n",
    "    listprob = listprob[j]\n",
    "    index_list=np.min([L,listprob.shape[0]])\n",
    "    listprob=listprob[:index_list]\n",
    "    j=j[:index_list]\n",
    "    x=u_hat[j]\n",
    "    idx=np.array(j//4, dtype=int)\n",
    "    u=np.concatenate([u[idx], polar_transform_mat(x)], axis=-1)\n",
    "    return u, x, idx, listprob"
   ]
  },
  {
   "cell_type": "code",
   "execution_count": 10,
   "metadata": {},
   "outputs": [],
   "source": [
    "def decRate0(y,listprob,u):\n",
    "    N=y.shape[1]\n",
    "    #LogP = llr2logp(y);\n",
    "    LogP=np.concatenate([(y<0)*y,(y>=0)*(-y)], axis =-1)\n",
    "    listprob=listprob+np.sum(LogP[:,:N],1)\n",
    "    idx=np.arange(len(listprob))\n",
    "    x=np.zeros_like(y)\n",
    "    if u.shape[1]==0:\n",
    "        u = np.zeros_like(y)\n",
    "    else:\n",
    "        u=np.concatenate([u[idx], x], axis =-1)\n",
    "    return u, x, idx, listprob"
   ]
  },
  {
   "cell_type": "code",
   "execution_count": 11,
   "metadata": {},
   "outputs": [],
   "source": [
    "def decRepCode(y,L,listprob,u):\n",
    "    N=y.shape[1]\n",
    "    u_hat=np.concatenate([np.zeros_like(y), np.ones_like(y)])\n",
    "    #LogP = llr2logp(y);\n",
    "    LogP=np.concatenate([(y<0)*y,(y>=0)*(-y)], axis =-1)\n",
    "    listprob=np.concatenate([listprob+np.sum(LogP[:,:N],1), listprob+np.sum(LogP[:,N:],1)])\n",
    "    j = np.argsort(listprob)[::-1]\n",
    "    listprob = listprob[j]\n",
    "    index_list=np.min([L,listprob.shape[0]])\n",
    "    listprob=listprob[:index_list]\n",
    "    j=j[:index_list]\n",
    "    x=u_hat[j]\n",
    "    idx = np.mod(j, y.shape[0])\n",
    "    if u.shape==(1,0):\n",
    "        u=polar_transform_mat(x)\n",
    "    else:\n",
    "        u=np.concatenate([u[idx], polar_transform_mat(x)], axis=-1)\n",
    "    return u, x, idx, listprob  "
   ]
  },
  {
   "cell_type": "code",
   "execution_count": 12,
   "metadata": {},
   "outputs": [],
   "source": [
    "def decSPCCode(y,L,listprob,u):\n",
    "    u_hat=np.kron(np.array((y<0), dtype=int),np.ones((8,1)))\n",
    "    #logp=-log1p(exp(-abs(y)));\n",
    "    listprob=np.kron(listprob.reshape(-1,1),np.ones((8,1)))\n",
    "    for i in range(y.shape[0]):\n",
    "        q=np.mod(np.sum(y[i]<0),2) \n",
    "        min_id=np.argsort(np.abs(y[i]))\n",
    "        min_val=np.abs(y[i][min_id])\n",
    "        s=8*i\n",
    "        if q == 1:\n",
    "            u_hat[s:s+7,min_id[1]]=1-u_hat[s:s+7,min_id[1]]\n",
    "            listprob[s:s+7]=listprob[s:s+7]-min_val[1]\n",
    "            min_val[1]=-min_val[1]\n",
    "        #V=nchoosek(1:4,2);\n",
    "        V=np.array([[0,0,0,1,1,2],[1,2,3,2,3,3]]).T\n",
    "        for j in range(V.shape[0]):\n",
    "            u_hat[s+j,min_id[V[j]]]=1-u_hat[s+j,min_id[V[j]]]\n",
    "            listprob[s+j]=listprob[s+j]-np.sum(min_val[V[j]])\n",
    "        u_hat[s+7,min_id[:4]]=1-u_hat[s+7,min_id[:4]]  \n",
    "        listprob[s+7]=listprob[s+7]-np.sum(min_val[:4])\n",
    "    listprob = listprob.reshape(1,-1)[0]\n",
    "    j = np.argsort(listprob)[::-1]\n",
    "    listprob = listprob[j]\n",
    "    index_list=np.min([L,listprob.shape[0]])\n",
    "    listprob=listprob[:index_list]\n",
    "    j=j[:index_list]\n",
    "    x=u_hat[j]\n",
    "    idx=np.array(j//8, dtype=int)\n",
    "    u=np.concatenate([u[idx], polar_transform_mat(x)], axis=-1)\n",
    "    return u, x, idx, listprob"
   ]
  },
  {
   "cell_type": "markdown",
   "metadata": {},
   "source": [
    "#### Функции для прямого кодирования"
   ]
  },
  {
   "cell_type": "code",
   "execution_count": 13,
   "metadata": {},
   "outputs": [],
   "source": [
    "def polar_encode(u, frozen_bits_indicator):\n",
    "    N = u.shape[0]\n",
    "    n = np.log2(N)\n",
    "    u[frozen_bits_indicator == 1] = 0\n",
    "    x = polar_encode_recursive(u)\n",
    "    return x"
   ]
  },
  {
   "cell_type": "code",
   "execution_count": 14,
   "metadata": {},
   "outputs": [],
   "source": [
    "def polar_encode_recursive(u):\n",
    "    N = u.shape[0]\n",
    "    n = np.log2(N)\n",
    "    G = np.array([[1,0],[1,1]])\n",
    "    if N == 2:\n",
    "        y = np.mod(u @ G, 2)\n",
    "        return y  \n",
    "\n",
    "    u_1 = np.zeros(N)\n",
    "    u_1[::2] = np.mod(u[::2]+u[1::2],2)\n",
    "    u_1[1::2] = u[1::2]\n",
    "    u_2 = np.concatenate([u_1[::2], u_1[1::2]])\n",
    "\n",
    "    y_1 = polar_encode_recursive(u_2[:N//2])\n",
    "    y_2 = polar_encode_recursive(u_2[N//2:])\n",
    "\n",
    "    y = np.concatenate([y_1, y_2])\n",
    "    return y"
   ]
  },
  {
   "cell_type": "code",
   "execution_count": 15,
   "metadata": {},
   "outputs": [],
   "source": [
    "def polar_transform_mat(u):\n",
    "    if (u.shape[1]==1):\n",
    "        return u\n",
    "    u1u2 = np.mod(u[:,::2]+u[:,1::2],2)\n",
    "    u2 = u[:,1::2]\n",
    "    x = np.concatenate([polar_transform_mat(u1u2), polar_transform_mat(u2)], axis=-1)\n",
    "    return x"
   ]
  },
  {
   "cell_type": "markdown",
   "metadata": {},
   "source": [
    "#### 5G frozen channels"
   ]
  },
  {
   "cell_type": "code",
   "execution_count": 16,
   "metadata": {},
   "outputs": [],
   "source": [
    "filepath = os.path.join('rank.csv')\n",
    "table_data = pd.read_csv(filepath)\n",
    "W = table_data['W'].apply(str.split)\n",
    "array = W.to_numpy()\n",
    "array = [ list(map(int, elem))  for elem in array]\n",
    "array = np.array([ elem[1] for elem in array])"
   ]
  },
  {
   "cell_type": "markdown",
   "metadata": {},
   "source": [
    "####  Тест функции polar_decode"
   ]
  },
  {
   "cell_type": "code",
   "execution_count": 17,
   "metadata": {},
   "outputs": [],
   "source": [
    "n=8\n",
    "M=2\n",
    "N = 2**n\n",
    "Rate=1/2\n",
    "fe=40\n",
    "K=int(N*Rate)\n",
    "EbNoArray=np.arange(1,2,0.1)\n",
    "FER_SC = np.zeros_like(EbNoArray)\n",
    "channels = array[array<N]\n",
    "frozen_indices = channels[:(N-K)]\n",
    "frozen_bits_indicator=np.zeros(N)\n",
    "frozen_bits_indicator[frozen_indices]=1\n",
    "ff=np.empty_like(frozen_bits_indicator)\n",
    "ff[frozen_bits_indicator==0]=1/2\n",
    "ff[frozen_bits_indicator==1]=0\n",
    "G=np.empty([K, N])\n",
    "I = np.eye(K)\n",
    "for i in range(K):\n",
    "    c = np.zeros(N)\n",
    "    c[frozen_bits_indicator==0] = I[i]\n",
    "    x = polar_encode(c,frozen_bits_indicator)\n",
    "    G[i] = x"
   ]
  },
  {
   "cell_type": "code",
   "execution_count": 18,
   "metadata": {},
   "outputs": [
    {
     "name": "stdout",
     "output_type": "stream",
     "text": [
      "0.8888888888888888\n",
      "0.8163265306122449\n",
      "0.5970149253731343\n",
      "0.5797101449275363\n",
      "0.3448275862068966\n",
      "0.26143790849673204\n",
      "0.12307692307692308\n",
      "0.09876543209876543\n",
      "0.048721071863580996\n",
      "0.035056967572304996\n"
     ]
    }
   ],
   "source": [
    "rmax = 4\n",
    "maxqr = 31\n",
    "for i  in range(len(EbNoArray)):\n",
    "    EbNo=EbNoArray[i]\n",
    "    noiseVar = 10.**(EbNo/10)\n",
    "    sigma = np.sqrt(1/(2*Rate*EbNo))\n",
    "    f_sc=0\n",
    "    Itr=0\n",
    "    while f_sc<fe:\n",
    "        Itr=Itr+1\n",
    "        u=np.random.randint(0, 2 , K)\n",
    "        c1 = np.mod(u @ G,2)\n",
    "        u1 = polar_transform_mat(c1.reshape(1,-1))[0]\n",
    "        s = 1-2*c1#BPSK bit to symbol conversion\n",
    "        r = s+sigma*np.random.randn(N)#AWGN channel\n",
    "        #quantization\n",
    "        r = satx(r, rmax)\n",
    "        rq = np.round(r/rmax*maxqr)\n",
    "        decoded_bits1,_ = polar_decode(rq, frozen_bits_indicator)\n",
    "        if (decoded_bits1!=u1).any():\n",
    "            f_sc=f_sc+1\n",
    "    FER_SC[i]=f_sc/Itr\n",
    "    print(FER_SC[i])"
   ]
  },
  {
   "cell_type": "code",
   "execution_count": 19,
   "metadata": {},
   "outputs": [
    {
     "data": {
      "image/png": "[encoded data removed]",
      "text/plain": [
       "<Figure size 432x288 with 1 Axes>"
      ]
     },
     "metadata": {
      "needs_background": "light"
     },
     "output_type": "display_data"
    }
   ],
   "source": [
    "fig, ax = plt.subplots()\n",
    "ax.plot(EbNoArray, np.log10(FER_SC), label='polar_decode')\n",
    "#ax.plot(EbNoArray[:8], np.exp(-EbNoArray[:8]), label='exp')\n",
    "plt.xlabel('SNR, dB')\n",
    "plt.ylabel('FER SC')\n",
    "plt.legend(loc='best')\n",
    "plt.title(\"Dependence of FER SC rate from SNR on polar codes with 256 length\")\n",
    "plt.grid()\n",
    "plt.show()"
   ]
  },
  {
   "cell_type": "markdown",
   "metadata": {},
   "source": [
    "#### Функции для cyclic redundancy check"
   ]
  },
  {
   "cell_type": "code",
   "execution_count": 20,
   "metadata": {},
   "outputs": [],
   "source": [
    "def xor(a,b):\n",
    "    n = b.shape[0]\n",
    "    return np.mod(a[1:n]+b[1:n],2)"
   ]
  },
  {
   "cell_type": "code",
   "execution_count": 21,
   "metadata": {},
   "outputs": [],
   "source": [
    "def mod2div(divident, divisor):\n",
    "    # Number of bits to be XORed at a time.\n",
    "    pick = len(divisor)\n",
    "   \n",
    "    # Slicing the divident to appropriate\n",
    "    # length for particular step\n",
    "    tmp = divident[0:pick]\n",
    "   \n",
    "    while pick < len(divident):\n",
    "        if tmp[0] == 1:\n",
    "            # replace the divident by the result\n",
    "            # of XOR and pull 1 bit down\n",
    "            tmp = np.append(xor(divisor, tmp),divident[pick])\n",
    "   \n",
    "        else:   # If leftmost bit is '0'\n",
    "  \n",
    "            # If the leftmost bit of the dividend (or the\n",
    "            # part used in each step) is 0, the step cannot\n",
    "            # use the regular divisor; we need to use an\n",
    "            # all-0s divisor.\n",
    "            tmp = np.append(xor(np.zeros(pick), tmp),divident[pick])\n",
    "   \n",
    "        # increment pick to move further\n",
    "        pick += 1\n",
    "   \n",
    "    # For the last n bits, we have to carry it out\n",
    "    # normally as increased value of pick will cause\n",
    "    # Index Out of Bounds.\n",
    "    if tmp[0] == 1:\n",
    "        tmp = xor(divisor, tmp)\n",
    "    else:\n",
    "        tmp = xor(np.zeros(pick), tmp)\n",
    "   \n",
    "    checkword = tmp\n",
    "    return checkword"
   ]
  },
  {
   "cell_type": "code",
   "execution_count": 22,
   "metadata": {},
   "outputs": [],
   "source": [
    "# Function used at the sender side to encode\n",
    "# data by appending remainder of modular division\n",
    "# at the end of data.\n",
    "def encodeData(data, key):\n",
    "   \n",
    "    l_key = len(key)\n",
    "   \n",
    "    # Appends n-1 zeroes at end of data\n",
    "    appended_data = np.concatenate([data,np.zeros(l_key-1)])\n",
    "    remainder = mod2div(appended_data, key)\n",
    "    # Append remainder in the original data\n",
    "    codeword = np.concatenate([data, remainder]).astype(int)\n",
    "    return codeword "
   ]
  },
  {
   "cell_type": "code",
   "execution_count": 23,
   "metadata": {},
   "outputs": [],
   "source": [
    "def decodeData(data, key):\n",
    "   \n",
    "    l_key = len(key)\n",
    "   \n",
    "    # Appends n-1 zeroes at end of data\n",
    "    appended_data = np.concatenate([data,np.zeros(l_key-1)])\n",
    "    remainder = mod2div(appended_data, key)\n",
    "   \n",
    "    return remainder"
   ]
  },
  {
   "cell_type": "code",
   "execution_count": 24,
   "metadata": {},
   "outputs": [],
   "source": [
    "def check(data, key):\n",
    "    remainder = decodeData(data, key)\n",
    "    if np.sum(remainder)==0:\n",
    "        #print(\"THANK you Data ->\", *data,\" Received No error FOUND\")\n",
    "        return True\n",
    "    else:\n",
    "        #print(\"Error in data\")\n",
    "        return False\n",
    "  "
   ]
  },
  {
   "cell_type": "markdown",
   "metadata": {},
   "source": [
    "#### Тест функции polar_decode_list"
   ]
  },
  {
   "cell_type": "code",
   "execution_count": 25,
   "metadata": {},
   "outputs": [],
   "source": [
    "n=8\n",
    "M=2\n",
    "N = 2**n\n",
    "Rate=1/2\n",
    "List_size=16\n",
    "fe=40\n",
    "K=int(N*Rate)\n",
    "EbNoArray=np.arange(1,2,0.1)\n",
    "FER_SC_l = np.zeros_like(EbNoArray)\n",
    "crc_poly='z^9 + z^8 + z^6 + z^5 + z^3 + z^2 + 1'\n",
    "#crc_poly = '1101101101'\n",
    "#key = '101101'\n",
    "key = np.array([1,0,1,1,0,1])\n",
    "key = np.array([1,1,0,1,1,0,1,1,0,1])\n",
    "poly_deg=9\n",
    "\n",
    "\n",
    "#5G frozen channels\n",
    "channels = array[array<N]\n",
    "frozen_indices = channels[:N-K-poly_deg]\n",
    "frozen_bits_indicator=np.zeros(N)\n",
    "frozen_bits_indicator[frozen_indices]=1\n",
    "ff=np.empty_like(frozen_bits_indicator)\n",
    "ff[frozen_bits_indicator==0]=1/2\n",
    "ff[frozen_bits_indicator==1]=0\n",
    "frozen_bits_indicator=frozen_bits_indicator.astype(int)\n",
    "G=np.empty([K+poly_deg, N])\n",
    "I = np.eye(K+poly_deg)\n",
    "\n",
    "for i in range(K+poly_deg):\n",
    "    c = np.zeros(N)\n",
    "    c[frozen_bits_indicator==0] = I[i]\n",
    "    x = polar_encode(c,frozen_bits_indicator)\n",
    "    G[i] = x"
   ]
  },
  {
   "cell_type": "code",
   "execution_count": 26,
   "metadata": {},
   "outputs": [
    {
     "name": "stdout",
     "output_type": "stream",
     "text": [
      "0.7547169811320755\n",
      "0.6153846153846154\n",
      "0.42105263157894735\n",
      "0.17857142857142858\n",
      "0.08639308855291576\n",
      "0.042826552462526764\n",
      "0.015117157974300832\n",
      "0.005436259853220984\n",
      "0.001402819667531739\n",
      "0.0006385594099711052\n"
     ]
    }
   ],
   "source": [
    "import time\n",
    "rmax = 4\n",
    "maxqr = 31\n",
    "t = np.array([])\n",
    "for i  in range(len(EbNoArray)):\n",
    "    EbNo=EbNoArray[i]\n",
    "    noiseVar = 10.**(EbNo/10)\n",
    "    sigma = np.sqrt(1/(2*Rate*EbNo))\n",
    "    f_sc=0\n",
    "    Itr=0\n",
    "    while f_sc<fe:\n",
    "        Itr=Itr+1\n",
    "        u=np.random.randint(0, 2 , K)\n",
    "        u_inner = encodeData(u, key)\n",
    "        c1 = np.mod(u_inner @ G,2)\n",
    "        u1 = polar_transform_mat(c1.reshape(1,-1))[0]\n",
    "        s = 1-2*c1 #BPSK bit to symbol conversion\n",
    "        r = s+sigma*np.random.randn(N) #AWGN channel\n",
    "        #quantization\n",
    "        r = satx(r, rmax)\n",
    "        rq = np.round(r/rmax*maxqr)\n",
    "        t0 = time.time()\n",
    "        decoded_bits1,_,_,_ =  polar_decode_list(rq.reshape(1,-1), ff, 16)\n",
    "        t1 = time.time()\n",
    "        dt = t1 - t0\n",
    "        t = np.append(t, dt)\n",
    "        cands=[]\n",
    "        for l in range(List_size):\n",
    "            uu=decoded_bits1[l]\n",
    "            if check(uu[frozen_bits_indicator==0], key):\n",
    "                cands.append(uu)\n",
    "        if len(cands)==0:\n",
    "            decoded_bits1=decoded_bits1[0]\n",
    "        else:\n",
    "            decoded_bits1=cands[0]\n",
    "        if (decoded_bits1!=u1).any():\n",
    "            f_sc=f_sc+1\n",
    "    FER_SC_l[i]=f_sc/Itr\n",
    "    print(FER_SC_l[i])"
   ]
  },
  {
   "cell_type": "code",
   "execution_count": 27,
   "metadata": {},
   "outputs": [
    {
     "data": {
      "image/png": "[encoded data removed]",
      "text/plain": [
       "<Figure size 432x288 with 1 Axes>"
      ]
     },
     "metadata": {
      "needs_background": "light"
     },
     "output_type": "display_data"
    }
   ],
   "source": [
    "fig, ax = plt.subplots()\n",
    "ax.plot(EbNoArray, np.log10(FER_SC_l), label='polar_decode_list')\n",
    "plt.xlabel('SNR, dB')\n",
    "plt.ylabel('FER SC')\n",
    "plt.legend(loc='best')\n",
    "plt.title(\"Dependence of FER SC rate from SNR on polar codes with 256 length\")\n",
    "plt.grid()\n",
    "plt.show()"
   ]
  },
  {
   "cell_type": "markdown",
   "metadata": {},
   "source": [
    "#### Тест функции polar_decode_list_fast"
   ]
  },
  {
   "cell_type": "code",
   "execution_count": 28,
   "metadata": {},
   "outputs": [
    {
     "name": "stdout",
     "output_type": "stream",
     "text": [
      "0.7407407407407407\n",
      "0.5714285714285714\n",
      "0.40404040404040403\n",
      "0.17699115044247787\n",
      "0.10335917312661498\n",
      "0.03636363636363636\n",
      "0.012445550715619166\n",
      "0.007578628268283441\n",
      "0.0016163575382874692\n",
      "0.0005774505557961599\n"
     ]
    }
   ],
   "source": [
    "FER_SC_lf = np.zeros_like(EbNoArray)\n",
    "rmax = 4\n",
    "maxqr = 31\n",
    "t = np.array([])\n",
    "for i  in range(len(EbNoArray)):\n",
    "    EbNo=EbNoArray[i]\n",
    "    noiseVar = 10.**(EbNo/10)\n",
    "    sigma = np.sqrt(1/(2*Rate*EbNo))\n",
    "    f_sc=0\n",
    "    Itr=0\n",
    "    while f_sc<fe:\n",
    "        Itr=Itr+1\n",
    "        u=np.random.randint(0, 2 , K)\n",
    "        u_inner = encodeData(u, key)\n",
    "        c1 = np.mod(u_inner @ G,2)\n",
    "        u1 = polar_transform_mat(c1.reshape(1,-1))[0]\n",
    "        s = 1-2*c1 #BPSK bit to symbol conversion\n",
    "        r = s+sigma*np.random.randn(N) #AWGN channel\n",
    "        #quantization\n",
    "        r = satx(r, rmax)\n",
    "        rq = np.round(r/rmax*maxqr)\n",
    "        t0 = time.time()\n",
    "        decoded_bits1,_,_,_ =  polar_decode_list_fast(rq.reshape(1,-1), ff, 16)\n",
    "        t1 = time.time()\n",
    "        dt = t1 - t0\n",
    "        t = np.append(t, dt)\n",
    "        cands=[]\n",
    "        for l in range(List_size):\n",
    "            uu=decoded_bits1[l]\n",
    "            if check(uu[frozen_bits_indicator==0], key):\n",
    "                cands.append(uu)\n",
    "        if len(cands)==0:\n",
    "            decoded_bits1=decoded_bits1[0]\n",
    "        else:\n",
    "            decoded_bits1=cands[0]\n",
    "        if (decoded_bits1!=u1).any():\n",
    "            f_sc=f_sc+1\n",
    "    FER_SC_lf[i]=f_sc/Itr\n",
    "    print(FER_SC_lf[i])"
   ]
  },
  {
   "cell_type": "code",
   "execution_count": 29,
   "metadata": {},
   "outputs": [
    {
     "data": {
      "image/png": "[encoded data removed]",
      "text/plain": [
       "<Figure size 432x288 with 1 Axes>"
      ]
     },
     "metadata": {
      "needs_background": "light"
     },
     "output_type": "display_data"
    }
   ],
   "source": [
    "fig, ax = plt.subplots()\n",
    "ax.plot(EbNoArray, np.log10(FER_SC_lf), label='polar_decode_list_fast')\n",
    "plt.xlabel('SNR, dB')\n",
    "plt.ylabel('FER SC')\n",
    "plt.legend(loc='best')\n",
    "plt.title(\"Dependence of FER SC rate from SNR on polar codes with 256 length\")\n",
    "plt.grid()\n",
    "plt.show()"
   ]
  },
  {
   "cell_type": "markdown",
   "metadata": {},
   "source": [
    "#### Общий график"
   ]
  },
  {
   "cell_type": "code",
   "execution_count": 30,
   "metadata": {},
   "outputs": [
    {
     "data": {
      "image/png": "[encoded data removed]",
      "text/plain": [
       "<Figure size 432x288 with 1 Axes>"
      ]
     },
     "metadata": {
      "needs_background": "light"
     },
     "output_type": "display_data"
    }
   ],
   "source": [
    "fig, ax = plt.subplots()\n",
    "ax.plot(EbNoArray, np.log10(FER_SC), label='polar_decode')\n",
    "ax.plot(EbNoArray, np.log10(FER_SC_l), label='polar_decode_list')\n",
    "ax.plot(EbNoArray, np.log10(FER_SC_lf), label='polar_decode_list_fast')\n",
    "plt.xlabel('SNR, dB')\n",
    "plt.ylabel('FER SC')\n",
    "plt.legend(loc='best')\n",
    "plt.title(\"Dependence of FER SC rate from SNR on polar codes with 256 length\")\n",
    "plt.grid()\n",
    "plt.show()"
   ]
  }
 ],
 "metadata": {
  "kernelspec": {
   "display_name": "Python 3",
   "language": "python",
   "name": "python3"
  },
  "language_info": {
   "codemirror_mode": {
    "name": "ipython",
    "version": 3
   },
   "file_extension": ".py",
   "mimetype": "text/x-python",
   "name": "python",
   "nbconvert_exporter": "python",
   "pygments_lexer": "ipython3",
   "version": "3.8.3"
  }
 },
 "nbformat": 4,
 "nbformat_minor": 4
}
